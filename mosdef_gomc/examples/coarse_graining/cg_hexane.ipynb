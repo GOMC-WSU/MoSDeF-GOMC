{
 "cells": [
  {
   "cell_type": "code",
   "execution_count": null,
   "metadata": {},
   "outputs": [],
   "source": [
    "import mbuild as mb\n",
    "from mbuild.examples.alkane.alkane import Alkane\n",
    "\n",
    "\n",
    "class Propane(mb.Compound):\n",
    "    def __init__(self):\n",
    "        super(Propane, self).__init__()\n",
    "\n",
    "        c = Alkane(n=3, cap_front=True, cap_end=False)\n",
    "        self.add(c, 'propane')\n",
    "\n",
    "        self.add(c['down'], 'down', containment=False)\n",
    "\n",
    "class Hexane(mb.Compound):\n",
    "    def __init__(self):\n",
    "        super(Hexane, self).__init__()\n",
    "\n",
    "        self.add(Propane(), 'propane1')\n",
    "        self.add(Propane(), 'propane2')\n",
    "\n",
    "        mb.force_overlap(self['propane1'], \n",
    "                         self['propane1']['down'], \n",
    "                         self['propane2']['down'])"
   ]
  },
  {
   "cell_type": "code",
   "execution_count": null,
   "metadata": {
    "collapsed": false,
    "jupyter": {
     "outputs_hidden": false
    }
   },
   "outputs": [],
   "source": [
    "hexane = Hexane()\n",
    "print(hexane)\n",
    "hexane.visualize()"
   ]
  },
  {
   "cell_type": "code",
   "execution_count": null,
   "metadata": {
    "collapsed": false,
    "jupyter": {
     "outputs_hidden": false
    }
   },
   "outputs": [],
   "source": [
    "particles = [Propane]\n",
    "cg = mb.coarse_grain(hexane, particle_classes=particles)\n",
    "print(cg)\n",
    "# There is a bug here https://github.com/mosdef-hub/mbuild/issues/589\n",
    "#cg.visualize()"
   ]
  }
 ],
 "metadata": {
  "kernelspec": {
   "display_name": "Python 3",
   "language": "python",
   "name": "python3"
  },
  "language_info": {
   "codemirror_mode": {
    "name": "ipython",
    "version": 3
   },
   "file_extension": ".py",
   "mimetype": "text/x-python",
   "name": "python",
   "nbconvert_exporter": "python",
   "pygments_lexer": "ipython3",
   "version": "3.6.8"
  },
  "widgets": {
   "state": {
    "2f4e0155dc344105a716d84fdcd9ce57": {
     "views": [
      {
       "cell_index": 2
      }
     ]
    },
    "8f6f796d04cb4d9f874a3b09f98ed00b": {
     "views": [
      {
       "cell_index": 3
      }
     ]
    },
    "cc0dfd9193394f50ba0b179514607dba": {
     "views": [
      {
       "cell_index": 3
      }
     ]
    },
    "fbd942f7e4d24445a09dca52c98ee424": {
     "views": [
      {
       "cell_index": 2
      }
     ]
    }
   },
   "version": "1.2.0"
  }
 },
 "nbformat": 4,
 "nbformat_minor": 4
}
