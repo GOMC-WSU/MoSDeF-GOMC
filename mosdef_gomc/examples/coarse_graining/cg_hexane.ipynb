{
 "cells": [
  {
   "cell_type": "code",
   "execution_count": 1,
   "metadata": {},
   "outputs": [],
   "source": [
    "import mbuild as mb\n",
    "from mbuild.examples.alkane.alkane import Alkane\n",
    "\n",
    "\n",
    "class Propane(mb.Compound):\n",
    "    def __init__(self):\n",
    "        super(Propane, self).__init__()\n",
    "\n",
    "        c = Alkane(n=3, cap_front=True, cap_end=False)\n",
    "        self.add(c, 'propane')\n",
    "\n",
    "        self.add(c['down'], 'down', containment=False)\n",
    "\n",
    "class Hexane(mb.Compound):\n",
    "    def __init__(self):\n",
    "        super(Hexane, self).__init__()\n",
    "\n",
    "        self.add(Propane(), 'propane1')\n",
    "        self.add(Propane(), 'propane2')\n",
    "\n",
    "        mb.force_overlap(self['propane1'], \n",
    "                         self['propane1']['down'], \n",
    "                         self['propane2']['down'])"
   ]
  },
  {
   "cell_type": "code",
   "execution_count": 2,
   "metadata": {
    "collapsed": false,
    "jupyter": {
     "outputs_hidden": false
    }
   },
   "outputs": [
    {
     "name": "stdout",
     "output_type": "stream",
     "text": [
      "<Hexane 20 particles, non-periodic, 19 bonds, id: 4578942704>\n"
     ]
    },
    {
     "data": {
      "application/3dmoljs_load.v0": "<div id=\"3dmolviewer_1568834425040844\"  style=\"position: relative; width: 640px; height: 480px\">\n        <p id=\"3dmolwarning_1568834425040844\" style=\"background-color:#ffcccc;color:black\">You appear to be running in JupyterLab (or JavaScript failed to load for some other reason).  You need to install the 3dmol extension: <br>\n        <tt>jupyter labextension install jupyterlab_3dmol</tt></p>\n        </div>\n<script>\n\nvar loadScriptAsync = function(uri){\n  return new Promise((resolve, reject) => {\n    var tag = document.createElement('script');\n    tag.src = uri;\n    tag.async = true;\n    tag.onload = () => {\n      resolve();\n    };\n  var firstScriptTag = document.getElementsByTagName('script')[0];\n  firstScriptTag.parentNode.insertBefore(tag, firstScriptTag);\n});\n};\n\nif(typeof $3Dmolpromise === 'undefined') {\n$3Dmolpromise = null;\n  $3Dmolpromise = loadScriptAsync('https://3dmol.csb.pitt.edu/build/3Dmol.js');\n}\n\nvar viewer_1568834425040844 = null;\nvar warn = document.getElementById(\"3dmolwarning_1568834425040844\");\nif(warn) {\n    warn.parentNode.removeChild(warn);\n}\n$3Dmolpromise.then(function() {\nviewer_1568834425040844 = $3Dmol.createViewer($(\"#3dmolviewer_1568834425040844\"),{backgroundColor:\"white\"});\n\tviewer_1568834425040844.addModel(\"@<TRIPOS>MOLECULE\\nRES\\n20 19 1 0 1\\nSMALL\\nNO_CHARGES\\n@<TRIPOS>CRYSIN\\n    7.2000    13.5380     6.6460    90.0000    90.0000    90.0000  1  1\\n@<TRIPOS>ATOM\\n       1 C            0.0000    -4.2000    -0.0000 C             1 RES     \\n       2 H            1.1000    -4.2000     0.0000 H             1 RES     \\n       3 H           -1.1000    -4.2000    -0.0000 H             1 RES     \\n       4 C            0.0000    -5.6000    -0.0000 C             1 RES     \\n       5 H            1.1000    -5.6000     0.0000 H             1 RES     \\n       6 H           -1.1000    -5.6000    -0.0000 H             1 RES     \\n       7 C            0.0000    -7.0000     0.0000 C             1 RES     \\n       8 H           -1.0700    -7.0000    -0.0000 H             1 RES     \\n       9 H            0.3570    -7.7690     0.6530 H             1 RES     \\n      10 H            0.3570    -7.1810    -0.9930 H             1 RES     \\n      11 C            0.0000    -2.8000    -0.0000 C             1 RES     \\n      12 H           -1.1000    -2.8000    -0.0000 H             1 RES     \\n      13 H            1.1000    -2.8000     0.0000 H             1 RES     \\n      14 C            0.0000    -1.4000    -0.0000 C             1 RES     \\n      15 H           -1.1000    -1.4000     0.0000 H             1 RES     \\n      16 H            1.1000    -1.4000    -0.0000 H             1 RES     \\n      17 C            0.0000     0.0000     0.0000 C             1 RES     \\n      18 H            1.0700     0.0000     0.0000 H             1 RES     \\n      19 H           -0.3570     0.7690     0.6530 H             1 RES     \\n      20 H           -0.3570     0.1810    -0.9930 H             1 RES     \\n@<TRIPOS>BOND\\n       1       10        7 1\\n       2        8        7 1\\n       3        5        4 1\\n       4        2        1 1\\n       5       19       17 1\\n       6       11        1 1\\n       7        6        4 1\\n       8       17       14 1\\n       9       18       17 1\\n      10        9        7 1\\n      11       14       11 1\\n      12       13       11 1\\n      13       15       14 1\\n      14        4        1 1\\n      15       12       11 1\\n      16       16       14 1\\n      17        3        1 1\\n      18        7        4 1\\n      19       20       17 1\\n@<TRIPOS>SUBSTRUCTURE\\n       1 RES             1 RESIDUE    0 **** ROOT      0\\n\",\"mol2\");\n\tviewer_1568834425040844.setStyle({\"stick\": {\"radius\": 0.2, \"color\": \"grey\"}, \"sphere\": {\"scale\": 0.3, \"colorscheme\": {}}});\n\tviewer_1568834425040844.zoomTo();\nviewer_1568834425040844.render();\n});\n</script>",
      "text/html": [
       "<div id=\"3dmolviewer_1568834425040844\"  style=\"position: relative; width: 640px; height: 480px\">\n",
       "        <p id=\"3dmolwarning_1568834425040844\" style=\"background-color:#ffcccc;color:black\">You appear to be running in JupyterLab (or JavaScript failed to load for some other reason).  You need to install the 3dmol extension: <br>\n",
       "        <tt>jupyter labextension install jupyterlab_3dmol</tt></p>\n",
       "        </div>\n",
       "<script>\n",
       "\n",
       "var loadScriptAsync = function(uri){\n",
       "  return new Promise((resolve, reject) => {\n",
       "    var tag = document.createElement('script');\n",
       "    tag.src = uri;\n",
       "    tag.async = true;\n",
       "    tag.onload = () => {\n",
       "      resolve();\n",
       "    };\n",
       "  var firstScriptTag = document.getElementsByTagName('script')[0];\n",
       "  firstScriptTag.parentNode.insertBefore(tag, firstScriptTag);\n",
       "});\n",
       "};\n",
       "\n",
       "if(typeof $3Dmolpromise === 'undefined') {\n",
       "$3Dmolpromise = null;\n",
       "  $3Dmolpromise = loadScriptAsync('https://3dmol.csb.pitt.edu/build/3Dmol.js');\n",
       "}\n",
       "\n",
       "var viewer_1568834425040844 = null;\n",
       "var warn = document.getElementById(\"3dmolwarning_1568834425040844\");\n",
       "if(warn) {\n",
       "    warn.parentNode.removeChild(warn);\n",
       "}\n",
       "$3Dmolpromise.then(function() {\n",
       "viewer_1568834425040844 = $3Dmol.createViewer($(\"#3dmolviewer_1568834425040844\"),{backgroundColor:\"white\"});\n",
       "\tviewer_1568834425040844.addModel(\"@<TRIPOS>MOLECULE\\nRES\\n20 19 1 0 1\\nSMALL\\nNO_CHARGES\\n@<TRIPOS>CRYSIN\\n    7.2000    13.5380     6.6460    90.0000    90.0000    90.0000  1  1\\n@<TRIPOS>ATOM\\n       1 C            0.0000    -4.2000    -0.0000 C             1 RES     \\n       2 H            1.1000    -4.2000     0.0000 H             1 RES     \\n       3 H           -1.1000    -4.2000    -0.0000 H             1 RES     \\n       4 C            0.0000    -5.6000    -0.0000 C             1 RES     \\n       5 H            1.1000    -5.6000     0.0000 H             1 RES     \\n       6 H           -1.1000    -5.6000    -0.0000 H             1 RES     \\n       7 C            0.0000    -7.0000     0.0000 C             1 RES     \\n       8 H           -1.0700    -7.0000    -0.0000 H             1 RES     \\n       9 H            0.3570    -7.7690     0.6530 H             1 RES     \\n      10 H            0.3570    -7.1810    -0.9930 H             1 RES     \\n      11 C            0.0000    -2.8000    -0.0000 C             1 RES     \\n      12 H           -1.1000    -2.8000    -0.0000 H             1 RES     \\n      13 H            1.1000    -2.8000     0.0000 H             1 RES     \\n      14 C            0.0000    -1.4000    -0.0000 C             1 RES     \\n      15 H           -1.1000    -1.4000     0.0000 H             1 RES     \\n      16 H            1.1000    -1.4000    -0.0000 H             1 RES     \\n      17 C            0.0000     0.0000     0.0000 C             1 RES     \\n      18 H            1.0700     0.0000     0.0000 H             1 RES     \\n      19 H           -0.3570     0.7690     0.6530 H             1 RES     \\n      20 H           -0.3570     0.1810    -0.9930 H             1 RES     \\n@<TRIPOS>BOND\\n       1       10        7 1\\n       2        8        7 1\\n       3        5        4 1\\n       4        2        1 1\\n       5       19       17 1\\n       6       11        1 1\\n       7        6        4 1\\n       8       17       14 1\\n       9       18       17 1\\n      10        9        7 1\\n      11       14       11 1\\n      12       13       11 1\\n      13       15       14 1\\n      14        4        1 1\\n      15       12       11 1\\n      16       16       14 1\\n      17        3        1 1\\n      18        7        4 1\\n      19       20       17 1\\n@<TRIPOS>SUBSTRUCTURE\\n       1 RES             1 RESIDUE    0 **** ROOT      0\\n\",\"mol2\");\n",
       "\tviewer_1568834425040844.setStyle({\"stick\": {\"radius\": 0.2, \"color\": \"grey\"}, \"sphere\": {\"scale\": 0.3, \"colorscheme\": {}}});\n",
       "\tviewer_1568834425040844.zoomTo();\n",
       "viewer_1568834425040844.render();\n",
       "});\n",
       "</script>"
      ]
     },
     "metadata": {},
     "output_type": "display_data"
    },
    {
     "data": {
      "text/plain": [
       "<py3Dmol.view at 0x1241a17b8>"
      ]
     },
     "execution_count": 2,
     "metadata": {},
     "output_type": "execute_result"
    }
   ],
   "source": [
    "hexane = Hexane()\n",
    "print(hexane)\n",
    "hexane.visualize()"
   ]
  },
  {
   "cell_type": "code",
   "execution_count": 3,
   "metadata": {
    "collapsed": false,
    "jupyter": {
     "outputs_hidden": false
    }
   },
   "outputs": [
    {
     "name": "stdout",
     "output_type": "stream",
     "text": [
      "<Hexane 20 particles, non-periodic, 19 bonds, id: 4578942704>\n"
     ]
    },
    {
     "ename": "AttributeError",
     "evalue": "'Hexane' object has no attribute 'wrapped'",
     "output_type": "error",
     "traceback": [
      "\u001b[0;31m---------------------------------------------------------------------------\u001b[0m",
      "\u001b[0;31mAttributeError\u001b[0m                            Traceback (most recent call last)",
      "\u001b[0;32m<ipython-input-3-09e0d62117e4>\u001b[0m in \u001b[0;36m<module>\u001b[0;34m\u001b[0m\n\u001b[1;32m      1\u001b[0m \u001b[0mparticles\u001b[0m \u001b[0;34m=\u001b[0m \u001b[0;34m[\u001b[0m\u001b[0mPropane\u001b[0m\u001b[0;34m]\u001b[0m\u001b[0;34m\u001b[0m\u001b[0;34m\u001b[0m\u001b[0m\n\u001b[0;32m----> 2\u001b[0;31m \u001b[0mcg\u001b[0m \u001b[0;34m=\u001b[0m \u001b[0mmb\u001b[0m\u001b[0;34m.\u001b[0m\u001b[0mcoarse_grain\u001b[0m\u001b[0;34m(\u001b[0m\u001b[0mhexane\u001b[0m\u001b[0;34m,\u001b[0m \u001b[0mparticle_classes\u001b[0m\u001b[0;34m=\u001b[0m\u001b[0mparticles\u001b[0m\u001b[0;34m)\u001b[0m\u001b[0;34m\u001b[0m\u001b[0;34m\u001b[0m\u001b[0m\n\u001b[0m\u001b[1;32m      3\u001b[0m \u001b[0mprint\u001b[0m\u001b[0;34m(\u001b[0m\u001b[0mcg\u001b[0m\u001b[0;34m)\u001b[0m\u001b[0;34m\u001b[0m\u001b[0;34m\u001b[0m\u001b[0m\n\u001b[1;32m      4\u001b[0m \u001b[0mcg\u001b[0m\u001b[0;34m.\u001b[0m\u001b[0mvisualize\u001b[0m\u001b[0;34m(\u001b[0m\u001b[0;34m)\u001b[0m\u001b[0;34m\u001b[0m\u001b[0;34m\u001b[0m\u001b[0m\n",
      "\u001b[0;32m~/Projects/mbuild/mbuild/coarse_graining.py\u001b[0m in \u001b[0;36mcoarse_grain\u001b[0;34m(real_thing, memo, particle_classes)\u001b[0m\n\u001b[1;32m     13\u001b[0m         \u001b[0mparticle_classes\u001b[0m \u001b[0;34m=\u001b[0m \u001b[0;34m[\u001b[0m\u001b[0;34m]\u001b[0m\u001b[0;34m\u001b[0m\u001b[0;34m\u001b[0m\u001b[0m\n\u001b[1;32m     14\u001b[0m \u001b[0;34m\u001b[0m\u001b[0m\n\u001b[0;32m---> 15\u001b[0;31m     \u001b[0mproxy\u001b[0m \u001b[0;34m=\u001b[0m \u001b[0m_create_proxy_compounds\u001b[0m\u001b[0;34m(\u001b[0m\u001b[0mreal_thing\u001b[0m\u001b[0;34m,\u001b[0m \u001b[0mmemo\u001b[0m\u001b[0;34m,\u001b[0m \u001b[0mparticle_classes\u001b[0m\u001b[0;34m)\u001b[0m\u001b[0;34m\u001b[0m\u001b[0;34m\u001b[0m\u001b[0m\n\u001b[0m\u001b[1;32m     16\u001b[0m     \u001b[0m_create_proxy_bonds\u001b[0m\u001b[0;34m(\u001b[0m\u001b[0mreal_thing\u001b[0m\u001b[0;34m,\u001b[0m \u001b[0mmemo\u001b[0m\u001b[0;34m,\u001b[0m \u001b[0mparticle_classes\u001b[0m\u001b[0;34m)\u001b[0m\u001b[0;34m\u001b[0m\u001b[0;34m\u001b[0m\u001b[0m\n\u001b[1;32m     17\u001b[0m     \u001b[0m_create_proxy_labels\u001b[0m\u001b[0;34m(\u001b[0m\u001b[0mreal_thing\u001b[0m\u001b[0;34m,\u001b[0m \u001b[0mmemo\u001b[0m\u001b[0;34m)\u001b[0m\u001b[0;34m\u001b[0m\u001b[0;34m\u001b[0m\u001b[0m\n",
      "\u001b[0;32m~/Projects/mbuild/mbuild/coarse_graining.py\u001b[0m in \u001b[0;36m_create_proxy_compounds\u001b[0;34m(real_thing, memo, particle_classes)\u001b[0m\n\u001b[1;32m     63\u001b[0m \u001b[0;34m\u001b[0m\u001b[0m\n\u001b[1;32m     64\u001b[0m \u001b[0;32mdef\u001b[0m \u001b[0m_create_proxy_compounds\u001b[0m\u001b[0;34m(\u001b[0m\u001b[0mreal_thing\u001b[0m\u001b[0;34m,\u001b[0m \u001b[0mmemo\u001b[0m\u001b[0;34m,\u001b[0m \u001b[0mparticle_classes\u001b[0m\u001b[0;34m)\u001b[0m\u001b[0;34m:\u001b[0m\u001b[0;34m\u001b[0m\u001b[0;34m\u001b[0m\u001b[0m\n\u001b[0;32m---> 65\u001b[0;31m     \u001b[0mproxy\u001b[0m \u001b[0;34m=\u001b[0m \u001b[0mProxy\u001b[0m\u001b[0;34m(\u001b[0m\u001b[0mreal_thing\u001b[0m\u001b[0;34m)\u001b[0m\u001b[0;34m\u001b[0m\u001b[0;34m\u001b[0m\u001b[0m\n\u001b[0m\u001b[1;32m     66\u001b[0m     \u001b[0mmemo\u001b[0m\u001b[0;34m[\u001b[0m\u001b[0mreal_thing\u001b[0m\u001b[0;34m]\u001b[0m \u001b[0;34m=\u001b[0m \u001b[0mproxy\u001b[0m\u001b[0;34m\u001b[0m\u001b[0;34m\u001b[0m\u001b[0m\n\u001b[1;32m     67\u001b[0m \u001b[0;34m\u001b[0m\u001b[0m\n",
      "\u001b[0;32m~/Projects/mbuild/mbuild/coarse_graining.py\u001b[0m in \u001b[0;36m__init__\u001b[0;34m(self, compound)\u001b[0m\n\u001b[1;32m     30\u001b[0m \u001b[0;34m\u001b[0m\u001b[0m\n\u001b[1;32m     31\u001b[0m         \u001b[0mprint\u001b[0m\u001b[0;34m(\u001b[0m\u001b[0mcompound\u001b[0m\u001b[0;34m)\u001b[0m\u001b[0;34m\u001b[0m\u001b[0;34m\u001b[0m\u001b[0m\n\u001b[0;32m---> 32\u001b[0;31m         \u001b[0mprint\u001b[0m\u001b[0;34m(\u001b[0m\u001b[0mcompound\u001b[0m\u001b[0;34m.\u001b[0m\u001b[0mwrapped\u001b[0m\u001b[0;34m)\u001b[0m\u001b[0;34m\u001b[0m\u001b[0;34m\u001b[0m\u001b[0m\n\u001b[0m\u001b[1;32m     33\u001b[0m \u001b[0;34m\u001b[0m\u001b[0m\n\u001b[1;32m     34\u001b[0m         \u001b[0mself\u001b[0m\u001b[0;34m.\u001b[0m\u001b[0mwrapped\u001b[0m \u001b[0;34m=\u001b[0m \u001b[0mcompound\u001b[0m\u001b[0;34m\u001b[0m\u001b[0;34m\u001b[0m\u001b[0m\n",
      "\u001b[0;31mAttributeError\u001b[0m: 'Hexane' object has no attribute 'wrapped'"
     ]
    }
   ],
   "source": [
    "particles = [Propane]\n",
    "cg = mb.coarse_grain(hexane, particle_classes=particles)\n",
    "print(cg)\n",
    "cg.visualize()"
   ]
  },
  {
   "cell_type": "code",
   "execution_count": null,
   "metadata": {
    "collapsed": true,
    "jupyter": {
     "outputs_hidden": true
    }
   },
   "outputs": [],
   "source": []
  }
 ],
 "metadata": {
  "kernelspec": {
   "display_name": "Python 3",
   "language": "python",
   "name": "python3"
  },
  "language_info": {
   "codemirror_mode": {
    "name": "ipython",
    "version": 3
   },
   "file_extension": ".py",
   "mimetype": "text/x-python",
   "name": "python",
   "nbconvert_exporter": "python",
   "pygments_lexer": "ipython3",
   "version": "3.6.8"
  },
  "widgets": {
   "state": {
    "2f4e0155dc344105a716d84fdcd9ce57": {
     "views": [
      {
       "cell_index": 2
      }
     ]
    },
    "8f6f796d04cb4d9f874a3b09f98ed00b": {
     "views": [
      {
       "cell_index": 3
      }
     ]
    },
    "cc0dfd9193394f50ba0b179514607dba": {
     "views": [
      {
       "cell_index": 3
      }
     ]
    },
    "fbd942f7e4d24445a09dca52c98ee424": {
     "views": [
      {
       "cell_index": 2
      }
     ]
    }
   },
   "version": "1.2.0"
  }
 },
 "nbformat": 4,
 "nbformat_minor": 4
}
