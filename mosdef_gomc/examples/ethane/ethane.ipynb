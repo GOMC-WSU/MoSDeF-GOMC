{
 "cells": [
  {
   "cell_type": "code",
   "execution_count": 1,
   "metadata": {},
   "outputs": [],
   "source": [
    "import mbuild as mb\n",
    "\n",
    "from mbuild.lib.moieties import CH3\n",
    "\n",
    "\n",
    "class Ethane(mb.Compound):\n",
    "    \"\"\"An ethane molecule. \"\"\"\n",
    "    def __init__(self):\n",
    "        \"\"\"Connect two methyl groups to form an ethane. \"\"\"\n",
    "        super(Ethane, self).__init__()\n",
    "\n",
    "        self.add(CH3(), \"methyl1\")\n",
    "        self.add(CH3(), \"methyl2\")\n",
    "        mb.force_overlap(self['methyl1'], self['methyl1']['up'], self['methyl2']['up'])"
   ]
  },
  {
   "cell_type": "code",
   "execution_count": 2,
   "metadata": {
    "collapsed": false,
    "jupyter": {
     "outputs_hidden": false
    }
   },
   "outputs": [
    {
     "name": "stdout",
     "output_type": "stream",
     "text": [
      "<Ethane 8 particles, non-periodic, 7 bonds, id: 4424118224>\n"
     ]
    },
    {
     "data": {
      "application/3dmoljs_load.v0": "<div id=\"3dmolviewer_1569948743201108\"  style=\"position: relative; width: 640px; height: 480px\">\n        <p id=\"3dmolwarning_1569948743201108\" style=\"background-color:#ffcccc;color:black\">You appear to be running in JupyterLab (or JavaScript failed to load for some other reason).  You need to install the 3dmol extension: <br>\n        <tt>jupyter labextension install jupyterlab_3dmol</tt></p>\n        </div>\n<script>\n\nvar loadScriptAsync = function(uri){\n  return new Promise((resolve, reject) => {\n    var tag = document.createElement('script');\n    tag.src = uri;\n    tag.async = true;\n    tag.onload = () => {\n      resolve();\n    };\n  var firstScriptTag = document.getElementsByTagName('script')[0];\n  firstScriptTag.parentNode.insertBefore(tag, firstScriptTag);\n});\n};\n\nif(typeof $3Dmolpromise === 'undefined') {\n$3Dmolpromise = null;\n  $3Dmolpromise = loadScriptAsync('https://3dmol.csb.pitt.edu/build/3Dmol.js');\n}\n\nvar viewer_1569948743201108 = null;\nvar warn = document.getElementById(\"3dmolwarning_1569948743201108\");\nif(warn) {\n    warn.parentNode.removeChild(warn);\n}\n$3Dmolpromise.then(function() {\nviewer_1569948743201108 = $3Dmol.createViewer($(\"#3dmolviewer_1569948743201108\"),{backgroundColor:\"white\"});\n\tviewer_1569948743201108.addModel(\"@<TRIPOS>MOLECULE\\nRES\\n8 7 1 0 1\\nSMALL\\nNO_CHARGES\\n@<TRIPOS>CRYSIN\\n    7.1400     7.9380     6.6460    90.0000    90.0000    90.0000  1  1\\n@<TRIPOS>ATOM\\n       1 C            0.0000    -1.4000    -0.0000 C             1 RES     \\n       2 H           -1.0700    -1.4000    -0.0000 H             1 RES     \\n       3 H            0.3570    -2.1690     0.6530 H             1 RES     \\n       4 H            0.3570    -1.5810    -0.9930 H             1 RES     \\n       5 C            0.0000     0.0000     0.0000 C             1 RES     \\n       6 H            1.0700     0.0000     0.0000 H             1 RES     \\n       7 H           -0.3570     0.7690     0.6530 H             1 RES     \\n       8 H           -0.3570     0.1810    -0.9930 H             1 RES     \\n@<TRIPOS>BOND\\n       1        2        1 1\\n       2        5        6 1\\n       3        1        4 1\\n       4        3        1 1\\n       5        1        5 1\\n       6        5        7 1\\n       7        5        8 1\\n@<TRIPOS>SUBSTRUCTURE\\n       1 RES             1 RESIDUE    0 **** ROOT      0\\n\",\"mol2\");\n\tviewer_1569948743201108.setStyle({\"stick\": {\"radius\": 0.2, \"color\": \"grey\"}, \"sphere\": {\"scale\": 0.3, \"colorscheme\": {}}});\n\tviewer_1569948743201108.zoomTo();\nviewer_1569948743201108.render();\n});\n</script>",
      "text/html": [
       "<div id=\"3dmolviewer_1569948743201108\"  style=\"position: relative; width: 640px; height: 480px\">\n",
       "        <p id=\"3dmolwarning_1569948743201108\" style=\"background-color:#ffcccc;color:black\">You appear to be running in JupyterLab (or JavaScript failed to load for some other reason).  You need to install the 3dmol extension: <br>\n",
       "        <tt>jupyter labextension install jupyterlab_3dmol</tt></p>\n",
       "        </div>\n",
       "<script>\n",
       "\n",
       "var loadScriptAsync = function(uri){\n",
       "  return new Promise((resolve, reject) => {\n",
       "    var tag = document.createElement('script');\n",
       "    tag.src = uri;\n",
       "    tag.async = true;\n",
       "    tag.onload = () => {\n",
       "      resolve();\n",
       "    };\n",
       "  var firstScriptTag = document.getElementsByTagName('script')[0];\n",
       "  firstScriptTag.parentNode.insertBefore(tag, firstScriptTag);\n",
       "});\n",
       "};\n",
       "\n",
       "if(typeof $3Dmolpromise === 'undefined') {\n",
       "$3Dmolpromise = null;\n",
       "  $3Dmolpromise = loadScriptAsync('https://3dmol.csb.pitt.edu/build/3Dmol.js');\n",
       "}\n",
       "\n",
       "var viewer_1569948743201108 = null;\n",
       "var warn = document.getElementById(\"3dmolwarning_1569948743201108\");\n",
       "if(warn) {\n",
       "    warn.parentNode.removeChild(warn);\n",
       "}\n",
       "$3Dmolpromise.then(function() {\n",
       "viewer_1569948743201108 = $3Dmol.createViewer($(\"#3dmolviewer_1569948743201108\"),{backgroundColor:\"white\"});\n",
       "\tviewer_1569948743201108.addModel(\"@<TRIPOS>MOLECULE\\nRES\\n8 7 1 0 1\\nSMALL\\nNO_CHARGES\\n@<TRIPOS>CRYSIN\\n    7.1400     7.9380     6.6460    90.0000    90.0000    90.0000  1  1\\n@<TRIPOS>ATOM\\n       1 C            0.0000    -1.4000    -0.0000 C             1 RES     \\n       2 H           -1.0700    -1.4000    -0.0000 H             1 RES     \\n       3 H            0.3570    -2.1690     0.6530 H             1 RES     \\n       4 H            0.3570    -1.5810    -0.9930 H             1 RES     \\n       5 C            0.0000     0.0000     0.0000 C             1 RES     \\n       6 H            1.0700     0.0000     0.0000 H             1 RES     \\n       7 H           -0.3570     0.7690     0.6530 H             1 RES     \\n       8 H           -0.3570     0.1810    -0.9930 H             1 RES     \\n@<TRIPOS>BOND\\n       1        2        1 1\\n       2        5        6 1\\n       3        1        4 1\\n       4        3        1 1\\n       5        1        5 1\\n       6        5        7 1\\n       7        5        8 1\\n@<TRIPOS>SUBSTRUCTURE\\n       1 RES             1 RESIDUE    0 **** ROOT      0\\n\",\"mol2\");\n",
       "\tviewer_1569948743201108.setStyle({\"stick\": {\"radius\": 0.2, \"color\": \"grey\"}, \"sphere\": {\"scale\": 0.3, \"colorscheme\": {}}});\n",
       "\tviewer_1569948743201108.zoomTo();\n",
       "viewer_1569948743201108.render();\n",
       "});\n",
       "</script>"
      ]
     },
     "metadata": {},
     "output_type": "display_data"
    },
    {
     "data": {
      "text/plain": [
       "<py3Dmol.view at 0x11ae107b8>"
      ]
     },
     "execution_count": 2,
     "metadata": {},
     "output_type": "execute_result"
    }
   ],
   "source": [
    "ethane = Ethane()\n",
    "print(ethane)\n",
    "ethane.visualize()"
   ]
  },
  {
   "cell_type": "code",
   "execution_count": 3,
   "metadata": {},
   "outputs": [
    {
     "data": {
      "application/3dmoljs_load.v0": "<div id=\"3dmolviewer_15699487432122922\"  style=\"position: relative; width: 640px; height: 480px\">\n        <p id=\"3dmolwarning_15699487432122922\" style=\"background-color:#ffcccc;color:black\">You appear to be running in JupyterLab (or JavaScript failed to load for some other reason).  You need to install the 3dmol extension: <br>\n        <tt>jupyter labextension install jupyterlab_3dmol</tt></p>\n        </div>\n<script>\n\nvar loadScriptAsync = function(uri){\n  return new Promise((resolve, reject) => {\n    var tag = document.createElement('script');\n    tag.src = uri;\n    tag.async = true;\n    tag.onload = () => {\n      resolve();\n    };\n  var firstScriptTag = document.getElementsByTagName('script')[0];\n  firstScriptTag.parentNode.insertBefore(tag, firstScriptTag);\n});\n};\n\nif(typeof $3Dmolpromise === 'undefined') {\n$3Dmolpromise = null;\n  $3Dmolpromise = loadScriptAsync('https://3dmol.csb.pitt.edu/build/3Dmol.js');\n}\n\nvar viewer_15699487432122922 = null;\nvar warn = document.getElementById(\"3dmolwarning_15699487432122922\");\nif(warn) {\n    warn.parentNode.removeChild(warn);\n}\n$3Dmolpromise.then(function() {\nviewer_15699487432122922 = $3Dmol.createViewer($(\"#3dmolviewer_15699487432122922\"),{backgroundColor:\"white\"});\n\tviewer_15699487432122922.addModel(\"@<TRIPOS>MOLECULE\\nRES\\n8 7 1 0 1\\nSMALL\\nNO_CHARGES\\n@<TRIPOS>CRYSIN\\n    7.1400     7.9380     6.6460    90.0000    90.0000    90.0000  1  1\\n@<TRIPOS>ATOM\\n       1 C            0.0000    -1.4000    -0.0000 C             1 RES     \\n       2 H           -1.0700    -1.4000    -0.0000 H             1 RES     \\n       3 H            0.3570    -2.1690     0.6530 H             1 RES     \\n       4 H            0.3570    -1.5810    -0.9930 H             1 RES     \\n       5 C            0.0000     0.0000     0.0000 C             1 RES     \\n       6 H            1.0700     0.0000     0.0000 H             1 RES     \\n       7 H           -0.3570     0.7690     0.6530 H             1 RES     \\n       8 H           -0.3570     0.1810    -0.9930 H             1 RES     \\n@<TRIPOS>BOND\\n       1        2        1 1\\n       2        5        1 1\\n       3        3        1 1\\n       4        7        5 1\\n       5        8        5 1\\n       6        6        5 1\\n       7        4        1 1\\n@<TRIPOS>SUBSTRUCTURE\\n       1 RES             1 RESIDUE    0 **** ROOT      0\\n\",\"mol2\");\n\tviewer_15699487432122922.setStyle({\"stick\": {\"radius\": 0.2, \"color\": \"grey\"}, \"sphere\": {\"scale\": 0.3, \"colorscheme\": {}}});\n\tviewer_15699487432122922.zoomTo();\nviewer_15699487432122922.render();\n});\n</script>",
      "text/html": [
       "<div id=\"3dmolviewer_15699487432122922\"  style=\"position: relative; width: 640px; height: 480px\">\n",
       "        <p id=\"3dmolwarning_15699487432122922\" style=\"background-color:#ffcccc;color:black\">You appear to be running in JupyterLab (or JavaScript failed to load for some other reason).  You need to install the 3dmol extension: <br>\n",
       "        <tt>jupyter labextension install jupyterlab_3dmol</tt></p>\n",
       "        </div>\n",
       "<script>\n",
       "\n",
       "var loadScriptAsync = function(uri){\n",
       "  return new Promise((resolve, reject) => {\n",
       "    var tag = document.createElement('script');\n",
       "    tag.src = uri;\n",
       "    tag.async = true;\n",
       "    tag.onload = () => {\n",
       "      resolve();\n",
       "    };\n",
       "  var firstScriptTag = document.getElementsByTagName('script')[0];\n",
       "  firstScriptTag.parentNode.insertBefore(tag, firstScriptTag);\n",
       "});\n",
       "};\n",
       "\n",
       "if(typeof $3Dmolpromise === 'undefined') {\n",
       "$3Dmolpromise = null;\n",
       "  $3Dmolpromise = loadScriptAsync('https://3dmol.csb.pitt.edu/build/3Dmol.js');\n",
       "}\n",
       "\n",
       "var viewer_15699487432122922 = null;\n",
       "var warn = document.getElementById(\"3dmolwarning_15699487432122922\");\n",
       "if(warn) {\n",
       "    warn.parentNode.removeChild(warn);\n",
       "}\n",
       "$3Dmolpromise.then(function() {\n",
       "viewer_15699487432122922 = $3Dmol.createViewer($(\"#3dmolviewer_15699487432122922\"),{backgroundColor:\"white\"});\n",
       "\tviewer_15699487432122922.addModel(\"@<TRIPOS>MOLECULE\\nRES\\n8 7 1 0 1\\nSMALL\\nNO_CHARGES\\n@<TRIPOS>CRYSIN\\n    7.1400     7.9380     6.6460    90.0000    90.0000    90.0000  1  1\\n@<TRIPOS>ATOM\\n       1 C            0.0000    -1.4000    -0.0000 C             1 RES     \\n       2 H           -1.0700    -1.4000    -0.0000 H             1 RES     \\n       3 H            0.3570    -2.1690     0.6530 H             1 RES     \\n       4 H            0.3570    -1.5810    -0.9930 H             1 RES     \\n       5 C            0.0000     0.0000     0.0000 C             1 RES     \\n       6 H            1.0700     0.0000     0.0000 H             1 RES     \\n       7 H           -0.3570     0.7690     0.6530 H             1 RES     \\n       8 H           -0.3570     0.1810    -0.9930 H             1 RES     \\n@<TRIPOS>BOND\\n       1        2        1 1\\n       2        5        1 1\\n       3        3        1 1\\n       4        7        5 1\\n       5        8        5 1\\n       6        6        5 1\\n       7        4        1 1\\n@<TRIPOS>SUBSTRUCTURE\\n       1 RES             1 RESIDUE    0 **** ROOT      0\\n\",\"mol2\");\n",
       "\tviewer_15699487432122922.setStyle({\"stick\": {\"radius\": 0.2, \"color\": \"grey\"}, \"sphere\": {\"scale\": 0.3, \"colorscheme\": {}}});\n",
       "\tviewer_15699487432122922.zoomTo();\n",
       "viewer_15699487432122922.render();\n",
       "});\n",
       "</script>"
      ]
     },
     "metadata": {},
     "output_type": "display_data"
    },
    {
     "data": {
      "text/plain": [
       "<py3Dmol.view at 0x11ae02a58>"
      ]
     },
     "execution_count": 3,
     "metadata": {},
     "output_type": "execute_result"
    }
   ],
   "source": [
    "ethane.visualize(show_ports=True)"
   ]
  },
  {
   "cell_type": "code",
   "execution_count": null,
   "metadata": {
    "collapsed": true,
    "jupyter": {
     "outputs_hidden": true
    }
   },
   "outputs": [],
   "source": []
  }
 ],
 "metadata": {
  "kernelspec": {
   "display_name": "Python 3",
   "language": "python",
   "name": "python3"
  },
  "language_info": {
   "codemirror_mode": {
    "name": "ipython",
    "version": 3
   },
   "file_extension": ".py",
   "mimetype": "text/x-python",
   "name": "python",
   "nbconvert_exporter": "python",
   "pygments_lexer": "ipython3",
   "version": "3.6.8"
  },
  "widgets": {
   "state": {
    "0167551767ac4299a760fb1f479ad1b1": {
     "views": [
      {
       "cell_index": 2
      }
     ]
    },
    "0c7a72e241b341ab8ca29ce3292b3ea3": {
     "views": [
      {
       "cell_index": 2
      }
     ]
    },
    "1fca05dfeb3d4987893759f4cc0520ea": {
     "views": [
      {
       "cell_index": 3
      }
     ]
    },
    "56215d591c034eff8b0899b7e18d5cba": {
     "views": [
      {
       "cell_index": 3
      }
     ]
    }
   },
   "version": "1.2.0"
  }
 },
 "nbformat": 4,
 "nbformat_minor": 4
}
