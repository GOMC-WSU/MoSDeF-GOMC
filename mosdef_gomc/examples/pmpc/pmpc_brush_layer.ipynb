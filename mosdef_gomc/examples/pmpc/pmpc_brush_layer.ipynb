{
 "cells": [
  {
   "cell_type": "code",
   "execution_count": null,
   "metadata": {},
   "outputs": [],
   "source": [
    "from __future__ import division\n",
    "\n",
    "from numpy import pi\n",
    "\n",
    "import mbuild as mb\n",
    "\n",
    "from mbuild.lib.atoms import H\n",
    "from mbuild.lib.surfaces import Betacristobalite\n",
    "from mbuild.examples.pmpc.brush import Brush\n",
    "\n",
    "\n",
    "class PMPCLayer(mb.lib.recipes.Monolayer):\n",
    "    \"\"\"Create a layer of grafted pMPC brushes on a beta-cristobalite surface.\"\"\"\n",
    "    def __init__(self, pattern, tile_x=1, tile_y=1, chain_length=4, alpha=pi / 4):\n",
    "        surface = Betacristobalite()\n",
    "        brush = Brush(chain_length=chain_length, alpha=alpha)\n",
    "        hydrogen = H()\n",
    "        super(PMPCLayer, self).__init__(surface, brush, backfill=hydrogen,\n",
    "                                        pattern=pattern, tile_x=tile_x,\n",
    "                                        tile_y=tile_y)"
   ]
  },
  {
   "cell_type": "code",
   "execution_count": null,
   "metadata": {},
   "outputs": [],
   "source": [
    "pattern = mb.Random2DPattern(10)\n",
    "pmpc_layer = PMPCLayer(pattern=pattern, chain_length=3, alpha=pi / 4, tile_x=1, tile_y=1)\n",
    "print(pmpc_layer)\n",
    "pmpc_layer.visualize()"
   ]
  },
  {
   "cell_type": "code",
   "execution_count": null,
   "metadata": {},
   "outputs": [],
   "source": []
  }
 ],
 "metadata": {
  "kernelspec": {
   "display_name": "Python 3",
   "language": "python",
   "name": "python3"
  },
  "language_info": {
   "codemirror_mode": {
    "name": "ipython",
    "version": 3
   },
   "file_extension": ".py",
   "mimetype": "text/x-python",
   "name": "python",
   "nbconvert_exporter": "python",
   "pygments_lexer": "ipython3",
   "version": "3.6.8"
  }
 },
 "nbformat": 4,
 "nbformat_minor": 4
}
