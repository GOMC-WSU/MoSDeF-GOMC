{
 "cells": [
  {
   "cell_type": "code",
   "execution_count": 1,
   "metadata": {
    "collapsed": false
   },
   "outputs": [
    {
     "name": "stdout",
     "output_type": "stream",
     "text": [
      "'writeandexecute' magic loaded.\n"
     ]
    }
   ],
   "source": [
    "%load_ext ipyext.writeandexecute"
   ]
  },
  {
   "cell_type": "code",
   "execution_count": 2,
   "metadata": {
    "collapsed": true
   },
   "outputs": [],
   "source": [
    "%%writeandexecute -i alkylsilane alkylsilane.py\n",
    "import mbuild as mb\n",
    "\n",
    "from mbuild.examples.alkane.alkane import Alkane\n",
    "from mbuild.lib.moieties import Silane\n",
    "\n",
    "\n",
    "class AlkylSilane(mb.Compound):\n",
    "    \"\"\"A silane functionalized alkane chain with one Port. \"\"\"\n",
    "    def __init__(self, chain_length):\n",
    "        super(AlkylSilane, self).__init__()\n",
    "\n",
    "        alkane = Alkane(chain_length, cap_end=False)\n",
    "        self.add(alkane, 'alkane')\n",
    "        silane = Silane()\n",
    "        self.add(silane, 'silane')\n",
    "        mb.force_overlap(self['alkane'], self['alkane']['down'], self['silane']['up'])\n",
    "\n",
    "        # Hoist silane port to AlkylSilane level.\n",
    "        self.add(silane['down'], 'down', containment=False)"
   ]
  },
  {
   "cell_type": "code",
   "execution_count": 3,
   "metadata": {
    "collapsed": false
   },
   "outputs": [
    {
     "name": "stdout",
     "output_type": "stream",
     "text": [
      "<AlkylSilane 36 particles, non-periodic, 35 bonds, id: 4370842400>\n"
     ]
    }
   ],
   "source": [
    "alkyl_silane = AlkylSilane(10)\n",
    "print(alkyl_silane)\n",
    "alkyl_silane.visualize()"
   ]
  },
  {
   "cell_type": "code",
   "execution_count": null,
   "metadata": {
    "collapsed": true
   },
   "outputs": [],
   "source": []
  }
 ],
 "metadata": {
  "kernelspec": {
   "display_name": "Python 3",
   "language": "python",
   "name": "python3"
  },
  "language_info": {
   "codemirror_mode": {
    "name": "ipython",
    "version": 3
   },
   "file_extension": ".py",
   "mimetype": "text/x-python",
   "name": "python",
   "nbconvert_exporter": "python",
   "pygments_lexer": "ipython3",
   "version": "3.5.2"
  },
  "widgets": {
   "state": {
    "1d2962d63e884743936c47ffcc4d4b9b": {
     "views": [
      {
       "cell_index": 2
      }
     ]
    },
    "3331dbc21e064f2bb6038d08da8b9f2d": {
     "views": [
      {
       "cell_index": 2
      }
     ]
    }
   },
   "version": "1.2.0"
  }
 },
 "nbformat": 4,
 "nbformat_minor": 0
}
