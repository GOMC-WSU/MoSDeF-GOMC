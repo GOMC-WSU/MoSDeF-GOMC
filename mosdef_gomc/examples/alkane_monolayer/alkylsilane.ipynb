{
 "cells": [
  {
   "cell_type": "code",
   "execution_count": 1,
   "metadata": {},
   "outputs": [],
   "source": [
    "import mbuild as mb\n",
    "\n",
    "from mbuild.examples.alkane.alkane import Alkane\n",
    "from mbuild.lib.moieties import Silane\n",
    "\n",
    "\n",
    "class AlkylSilane(mb.Compound):\n",
    "    \"\"\"A silane functionalized alkane chain with one Port. \"\"\"\n",
    "    def __init__(self, chain_length):\n",
    "        super(AlkylSilane, self).__init__()\n",
    "\n",
    "        alkane = Alkane(chain_length, cap_end=False)\n",
    "        self.add(alkane, 'alkane')\n",
    "        silane = Silane()\n",
    "        self.add(silane, 'silane')\n",
    "        mb.force_overlap(self['alkane'], self['alkane']['down'], self['silane']['up'])\n",
    "\n",
    "        # Hoist silane port to AlkylSilane level.\n",
    "        self.add(silane['down'], 'down', containment=False)"
   ]
  },
  {
   "cell_type": "code",
   "execution_count": 2,
   "metadata": {
    "collapsed": false,
    "jupyter": {
     "outputs_hidden": false
    }
   },
   "outputs": [
    {
     "name": "stdout",
     "output_type": "stream",
     "text": [
      "<AlkylSilane 36 particles, non-periodic, 35 bonds, id: 4432611984>\n"
     ]
    },
    {
     "data": {
      "application/3dmoljs_load.v0": "<div id=\"3dmolviewer_1569948766776064\"  style=\"position: relative; width: 640px; height: 480px\">\n        <p id=\"3dmolwarning_1569948766776064\" style=\"background-color:#ffcccc;color:black\">You appear to be running in JupyterLab (or JavaScript failed to load for some other reason).  You need to install the 3dmol extension: <br>\n        <tt>jupyter labextension install jupyterlab_3dmol</tt></p>\n        </div>\n<script>\n\nvar loadScriptAsync = function(uri){\n  return new Promise((resolve, reject) => {\n    var tag = document.createElement('script');\n    tag.src = uri;\n    tag.async = true;\n    tag.onload = () => {\n      resolve();\n    };\n  var firstScriptTag = document.getElementsByTagName('script')[0];\n  firstScriptTag.parentNode.insertBefore(tag, firstScriptTag);\n});\n};\n\nif(typeof $3Dmolpromise === 'undefined') {\n$3Dmolpromise = null;\n  $3Dmolpromise = loadScriptAsync('https://3dmol.csb.pitt.edu/build/3Dmol.js');\n}\n\nvar viewer_1569948766776064 = null;\nvar warn = document.getElementById(\"3dmolwarning_1569948766776064\");\nif(warn) {\n    warn.parentNode.removeChild(warn);\n}\n$3Dmolpromise.then(function() {\nviewer_1569948766776064 = $3Dmol.createViewer($(\"#3dmolviewer_1569948766776064\"),{backgroundColor:\"white\"});\n\tviewer_1569948766776064.addModel(\"@<TRIPOS>MOLECULE\\nRES\\n36 35 1 0 1\\nSMALL\\nNO_CHARGES\\n@<TRIPOS>CRYSIN\\n    8.4524    19.7690     6.7950    90.0000    90.0000    90.0000  1  1\\n@<TRIPOS>ATOM\\n       1 C            0.0000     1.4000    -0.0000 C             1 RES     \\n       2 H           -1.1000     1.4000    -0.0000 H             1 RES     \\n       3 H            1.1000     1.4000    -0.0000 H             1 RES     \\n       4 C            0.0000     2.8000    -0.0000 C             1 RES     \\n       5 H           -1.1000     2.8000     0.0000 H             1 RES     \\n       6 H            1.1000     2.8000    -0.0000 H             1 RES     \\n       7 C            0.0000     4.2000    -0.0000 C             1 RES     \\n       8 H           -1.1000     4.2000     0.0000 H             1 RES     \\n       9 H            1.1000     4.2000    -0.0000 H             1 RES     \\n      10 C            0.0000     5.6000    -0.0000 C             1 RES     \\n      11 H           -1.1000     5.6000     0.0000 H             1 RES     \\n      12 H            1.1000     5.6000    -0.0000 H             1 RES     \\n      13 C            0.0000     7.0000    -0.0000 C             1 RES     \\n      14 H           -1.1000     7.0000     0.0000 H             1 RES     \\n      15 H            1.1000     7.0000    -0.0000 H             1 RES     \\n      16 C            0.0000     8.4000    -0.0000 C             1 RES     \\n      17 H           -1.1000     8.4000     0.0000 H             1 RES     \\n      18 H            1.1000     8.4000    -0.0000 H             1 RES     \\n      19 C            0.0000     9.8000    -0.0000 C             1 RES     \\n      20 H           -1.1000     9.8000     0.0000 H             1 RES     \\n      21 H            1.1000     9.8000    -0.0000 H             1 RES     \\n      22 C            0.0000    11.2000    -0.0000 C             1 RES     \\n      23 H           -1.1000    11.2000     0.0000 H             1 RES     \\n      24 H            1.1000    11.2000    -0.0000 H             1 RES     \\n      25 C            0.0000    12.6000    -0.0000 C             1 RES     \\n      26 H           -1.1000    12.6000     0.0000 H             1 RES     \\n      27 H            1.1000    12.6000    -0.0000 H             1 RES     \\n      28 C            0.0000    14.0000    -0.0000 C             1 RES     \\n      29 H            1.0700    14.0000    -0.0000 H             1 RES     \\n      30 H           -0.3570    14.7690     0.6530 H             1 RES     \\n      31 H           -0.3570    14.1810    -0.9930 H             1 RES     \\n      32 Si           0.0000     0.0000     0.0000 Si            1 RES     \\n      33 O            1.3073     0.0000     0.0000 O             1 RES     \\n      34 H            1.6345     0.0316    -0.6710 H             1 RES     \\n      35 O           -1.4502     0.1509     0.0000 O             1 RES     \\n      36 H           -1.8179     0.0683     0.8020 H             1 RES     \\n@<TRIPOS>BOND\\n       1       28       25 1\\n       2        5        4 1\\n       3       10        7 1\\n       4       35       36 1\\n       5       33       34 1\\n       6       22       19 1\\n       7       23       22 1\\n       8       32        1 1\\n       9       22       25 1\\n      10       32       33 1\\n      11       24       22 1\\n      12       15       13 1\\n      13       11       10 1\\n      14       32       35 1\\n      15       25       26 1\\n      16        7        4 1\\n      17       20       19 1\\n      18       16       19 1\\n      19       12       10 1\\n      20       28       31 1\\n      21       14       13 1\\n      22       28       30 1\\n      23       13       16 1\\n      24       17       16 1\\n      25       19       21 1\\n      26       25       27 1\\n      27       13       10 1\\n      28       18       16 1\\n      29        4        1 1\\n      30        3        1 1\\n      31        9        7 1\\n      32        2        1 1\\n      33        8        7 1\\n      34       28       29 1\\n      35        6        4 1\\n@<TRIPOS>SUBSTRUCTURE\\n       1 RES             1 RESIDUE    0 **** ROOT      0\\n\",\"mol2\");\n\tviewer_1569948766776064.setStyle({\"stick\": {\"radius\": 0.2, \"color\": \"grey\"}, \"sphere\": {\"scale\": 0.3, \"colorscheme\": {}}});\n\tviewer_1569948766776064.zoomTo();\nviewer_1569948766776064.render();\n});\n</script>",
      "text/html": [
       "<div id=\"3dmolviewer_1569948766776064\"  style=\"position: relative; width: 640px; height: 480px\">\n",
       "        <p id=\"3dmolwarning_1569948766776064\" style=\"background-color:#ffcccc;color:black\">You appear to be running in JupyterLab (or JavaScript failed to load for some other reason).  You need to install the 3dmol extension: <br>\n",
       "        <tt>jupyter labextension install jupyterlab_3dmol</tt></p>\n",
       "        </div>\n",
       "<script>\n",
       "\n",
       "var loadScriptAsync = function(uri){\n",
       "  return new Promise((resolve, reject) => {\n",
       "    var tag = document.createElement('script');\n",
       "    tag.src = uri;\n",
       "    tag.async = true;\n",
       "    tag.onload = () => {\n",
       "      resolve();\n",
       "    };\n",
       "  var firstScriptTag = document.getElementsByTagName('script')[0];\n",
       "  firstScriptTag.parentNode.insertBefore(tag, firstScriptTag);\n",
       "});\n",
       "};\n",
       "\n",
       "if(typeof $3Dmolpromise === 'undefined') {\n",
       "$3Dmolpromise = null;\n",
       "  $3Dmolpromise = loadScriptAsync('https://3dmol.csb.pitt.edu/build/3Dmol.js');\n",
       "}\n",
       "\n",
       "var viewer_1569948766776064 = null;\n",
       "var warn = document.getElementById(\"3dmolwarning_1569948766776064\");\n",
       "if(warn) {\n",
       "    warn.parentNode.removeChild(warn);\n",
       "}\n",
       "$3Dmolpromise.then(function() {\n",
       "viewer_1569948766776064 = $3Dmol.createViewer($(\"#3dmolviewer_1569948766776064\"),{backgroundColor:\"white\"});\n",
       "\tviewer_1569948766776064.addModel(\"@<TRIPOS>MOLECULE\\nRES\\n36 35 1 0 1\\nSMALL\\nNO_CHARGES\\n@<TRIPOS>CRYSIN\\n    8.4524    19.7690     6.7950    90.0000    90.0000    90.0000  1  1\\n@<TRIPOS>ATOM\\n       1 C            0.0000     1.4000    -0.0000 C             1 RES     \\n       2 H           -1.1000     1.4000    -0.0000 H             1 RES     \\n       3 H            1.1000     1.4000    -0.0000 H             1 RES     \\n       4 C            0.0000     2.8000    -0.0000 C             1 RES     \\n       5 H           -1.1000     2.8000     0.0000 H             1 RES     \\n       6 H            1.1000     2.8000    -0.0000 H             1 RES     \\n       7 C            0.0000     4.2000    -0.0000 C             1 RES     \\n       8 H           -1.1000     4.2000     0.0000 H             1 RES     \\n       9 H            1.1000     4.2000    -0.0000 H             1 RES     \\n      10 C            0.0000     5.6000    -0.0000 C             1 RES     \\n      11 H           -1.1000     5.6000     0.0000 H             1 RES     \\n      12 H            1.1000     5.6000    -0.0000 H             1 RES     \\n      13 C            0.0000     7.0000    -0.0000 C             1 RES     \\n      14 H           -1.1000     7.0000     0.0000 H             1 RES     \\n      15 H            1.1000     7.0000    -0.0000 H             1 RES     \\n      16 C            0.0000     8.4000    -0.0000 C             1 RES     \\n      17 H           -1.1000     8.4000     0.0000 H             1 RES     \\n      18 H            1.1000     8.4000    -0.0000 H             1 RES     \\n      19 C            0.0000     9.8000    -0.0000 C             1 RES     \\n      20 H           -1.1000     9.8000     0.0000 H             1 RES     \\n      21 H            1.1000     9.8000    -0.0000 H             1 RES     \\n      22 C            0.0000    11.2000    -0.0000 C             1 RES     \\n      23 H           -1.1000    11.2000     0.0000 H             1 RES     \\n      24 H            1.1000    11.2000    -0.0000 H             1 RES     \\n      25 C            0.0000    12.6000    -0.0000 C             1 RES     \\n      26 H           -1.1000    12.6000     0.0000 H             1 RES     \\n      27 H            1.1000    12.6000    -0.0000 H             1 RES     \\n      28 C            0.0000    14.0000    -0.0000 C             1 RES     \\n      29 H            1.0700    14.0000    -0.0000 H             1 RES     \\n      30 H           -0.3570    14.7690     0.6530 H             1 RES     \\n      31 H           -0.3570    14.1810    -0.9930 H             1 RES     \\n      32 Si           0.0000     0.0000     0.0000 Si            1 RES     \\n      33 O            1.3073     0.0000     0.0000 O             1 RES     \\n      34 H            1.6345     0.0316    -0.6710 H             1 RES     \\n      35 O           -1.4502     0.1509     0.0000 O             1 RES     \\n      36 H           -1.8179     0.0683     0.8020 H             1 RES     \\n@<TRIPOS>BOND\\n       1       28       25 1\\n       2        5        4 1\\n       3       10        7 1\\n       4       35       36 1\\n       5       33       34 1\\n       6       22       19 1\\n       7       23       22 1\\n       8       32        1 1\\n       9       22       25 1\\n      10       32       33 1\\n      11       24       22 1\\n      12       15       13 1\\n      13       11       10 1\\n      14       32       35 1\\n      15       25       26 1\\n      16        7        4 1\\n      17       20       19 1\\n      18       16       19 1\\n      19       12       10 1\\n      20       28       31 1\\n      21       14       13 1\\n      22       28       30 1\\n      23       13       16 1\\n      24       17       16 1\\n      25       19       21 1\\n      26       25       27 1\\n      27       13       10 1\\n      28       18       16 1\\n      29        4        1 1\\n      30        3        1 1\\n      31        9        7 1\\n      32        2        1 1\\n      33        8        7 1\\n      34       28       29 1\\n      35        6        4 1\\n@<TRIPOS>SUBSTRUCTURE\\n       1 RES             1 RESIDUE    0 **** ROOT      0\\n\",\"mol2\");\n",
       "\tviewer_1569948766776064.setStyle({\"stick\": {\"radius\": 0.2, \"color\": \"grey\"}, \"sphere\": {\"scale\": 0.3, \"colorscheme\": {}}});\n",
       "\tviewer_1569948766776064.zoomTo();\n",
       "viewer_1569948766776064.render();\n",
       "});\n",
       "</script>"
      ]
     },
     "metadata": {},
     "output_type": "display_data"
    },
    {
     "data": {
      "text/plain": [
       "<py3Dmol.view at 0x11b5d0ef0>"
      ]
     },
     "execution_count": 2,
     "metadata": {},
     "output_type": "execute_result"
    }
   ],
   "source": [
    "alkyl_silane = AlkylSilane(10)\n",
    "print(alkyl_silane)\n",
    "alkyl_silane.visualize()"
   ]
  },
  {
   "cell_type": "code",
   "execution_count": null,
   "metadata": {
    "collapsed": true,
    "jupyter": {
     "outputs_hidden": true
    }
   },
   "outputs": [],
   "source": []
  }
 ],
 "metadata": {
  "kernelspec": {
   "display_name": "Python 3",
   "language": "python",
   "name": "python3"
  },
  "language_info": {
   "codemirror_mode": {
    "name": "ipython",
    "version": 3
   },
   "file_extension": ".py",
   "mimetype": "text/x-python",
   "name": "python",
   "nbconvert_exporter": "python",
   "pygments_lexer": "ipython3",
   "version": "3.6.8"
  },
  "widgets": {
   "state": {
    "1d2962d63e884743936c47ffcc4d4b9b": {
     "views": [
      {
       "cell_index": 2
      }
     ]
    },
    "3331dbc21e064f2bb6038d08da8b9f2d": {
     "views": [
      {
       "cell_index": 2
      }
     ]
    }
   },
   "version": "1.2.0"
  }
 },
 "nbformat": 4,
 "nbformat_minor": 4
}
