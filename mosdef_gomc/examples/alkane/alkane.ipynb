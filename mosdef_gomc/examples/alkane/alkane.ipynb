{
 "cells": [
  {
   "cell_type": "code",
   "execution_count": 1,
   "metadata": {},
   "outputs": [],
   "source": [
    "import mbuild as mb\n",
    "\n",
    "from mbuild.lib.moieties import CH2\n",
    "from mbuild.lib.moieties import CH3\n",
    "\n",
    "\n",
    "class Alkane(mb.Compound):\n",
    "    \"\"\"An alkane which may optionally end with a hydrogen or a Port.\"\"\"\n",
    "    def __init__(self, n=3, cap_front=True, cap_end=True):\n",
    "        \"\"\"Initialize an Alkane Compound.\n",
    "\n",
    "        Args:\n",
    "            n: Number of carbon atoms.\n",
    "            cap_front: Add methyl group to beginning of chain ('down' port).\n",
    "            cap_end: Add methyl group to end of chain ('up' port).\n",
    "        \"\"\"\n",
    "        if n < 2:\n",
    "            raise ValueError('n must be 1 or more')\n",
    "        super(Alkane, self).__init__()\n",
    "\n",
    "        # Adjust length of Polmyer for absence of methyl terminations.\n",
    "        if not cap_front:\n",
    "            n += 1\n",
    "        if not cap_end:\n",
    "            n += 1\n",
    "        chain = mb.lib.recipes.polymer.Polymer(CH2(), n=n-2, port_labels=('up', 'down'))\n",
    "        self.add(chain, 'chain')\n",
    "\n",
    "        if cap_front:\n",
    "            self.add(CH3(), \"methyl_front\")\n",
    "            mb.force_overlap(move_this=self['chain'],\n",
    "                             from_positions=self['chain']['up'],\n",
    "                             to_positions=self['methyl_front']['up'])\n",
    "        else:\n",
    "            # Hoist port label to Alkane level.\n",
    "            self.add(chain['up'], 'up', containment=False)\n",
    "\n",
    "        if cap_end:\n",
    "            self.add(CH3(), 'methyl_end')\n",
    "            mb.force_overlap(self['methyl_end'], self['methyl_end']['up'], self['chain']['down'])\n",
    "        else:\n",
    "            # Hoist port label to Alkane level.\n",
    "            self.add(chain['down'], 'down', containment=False)"
   ]
  },
  {
   "cell_type": "code",
   "execution_count": 2,
   "metadata": {
    "collapsed": false,
    "jupyter": {
     "outputs_hidden": false
    }
   },
   "outputs": [
    {
     "name": "stdout",
     "output_type": "stream",
     "text": [
      "<Alkane 17 particles, non-periodic, 16 bonds, id: 4537585168>\n"
     ]
    },
    {
     "data": {
      "application/3dmoljs_load.v0": "<div id=\"3dmolviewer_15699485138435462\"  style=\"position: relative; width: 640px; height: 480px\">\n        <p id=\"3dmolwarning_15699485138435462\" style=\"background-color:#ffcccc;color:black\">You appear to be running in JupyterLab (or JavaScript failed to load for some other reason).  You need to install the 3dmol extension: <br>\n        <tt>jupyter labextension install jupyterlab_3dmol</tt></p>\n        </div>\n<script>\n\nvar loadScriptAsync = function(uri){\n  return new Promise((resolve, reject) => {\n    var tag = document.createElement('script');\n    tag.src = uri;\n    tag.async = true;\n    tag.onload = () => {\n      resolve();\n    };\n  var firstScriptTag = document.getElementsByTagName('script')[0];\n  firstScriptTag.parentNode.insertBefore(tag, firstScriptTag);\n});\n};\n\nif(typeof $3Dmolpromise === 'undefined') {\n$3Dmolpromise = null;\n  $3Dmolpromise = loadScriptAsync('https://3dmol.csb.pitt.edu/build/3Dmol.js');\n}\n\nvar viewer_15699485138435462 = null;\nvar warn = document.getElementById(\"3dmolwarning_15699485138435462\");\nif(warn) {\n    warn.parentNode.removeChild(warn);\n}\n$3Dmolpromise.then(function() {\nviewer_15699485138435462 = $3Dmol.createViewer($(\"#3dmolviewer_15699485138435462\"),{backgroundColor:\"white\"});\n\tviewer_15699485138435462.addModel(\"@<TRIPOS>MOLECULE\\nRES\\n17 16 1 0 1\\nSMALL\\nNO_CHARGES\\n@<TRIPOS>CRYSIN\\n    7.2000    12.1380     6.6460    90.0000    90.0000    90.0000  1  1\\n@<TRIPOS>ATOM\\n       1 C           -0.0000    -4.2000    -0.0000 C             1 RES     \\n       2 H           -1.1000    -4.2000    -0.0000 H             1 RES     \\n       3 H            1.1000    -4.2000     0.0000 H             1 RES     \\n       4 C           -0.0000    -2.8000    -0.0000 C             1 RES     \\n       5 H           -1.1000    -2.8000    -0.0000 H             1 RES     \\n       6 H            1.1000    -2.8000     0.0000 H             1 RES     \\n       7 C           -0.0000    -1.4000    -0.0000 C             1 RES     \\n       8 H           -1.1000    -1.4000     0.0000 H             1 RES     \\n       9 H            1.1000    -1.4000    -0.0000 H             1 RES     \\n      10 C            0.0000     0.0000     0.0000 C             1 RES     \\n      11 H            1.0700     0.0000     0.0000 H             1 RES     \\n      12 H           -0.3570     0.7690     0.6530 H             1 RES     \\n      13 H           -0.3570     0.1810    -0.9930 H             1 RES     \\n      14 C           -0.0000    -5.6000    -0.0000 C             1 RES     \\n      15 H           -1.0700    -5.6000    -0.0000 H             1 RES     \\n      16 H            0.3570    -6.3690     0.6530 H             1 RES     \\n      17 H            0.3570    -5.7810    -0.9930 H             1 RES     \\n@<TRIPOS>BOND\\n       1        2        1 1\\n       2       16       14 1\\n       3       11       10 1\\n       4       14        1 1\\n       5        5        4 1\\n       6       10        7 1\\n       7        7        4 1\\n       8        8        7 1\\n       9        9        7 1\\n      10       15       14 1\\n      11       13       10 1\\n      12        6        4 1\\n      13        3        1 1\\n      14       17       14 1\\n      15       12       10 1\\n      16        4        1 1\\n@<TRIPOS>SUBSTRUCTURE\\n       1 RES             1 RESIDUE    0 **** ROOT      0\\n\",\"mol2\");\n\tviewer_15699485138435462.setStyle({\"stick\": {\"radius\": 0.2, \"color\": \"grey\"}, \"sphere\": {\"scale\": 0.3, \"colorscheme\": {}}});\n\tviewer_15699485138435462.zoomTo();\nviewer_15699485138435462.render();\n});\n</script>",
      "text/html": [
       "<div id=\"3dmolviewer_15699485138435462\"  style=\"position: relative; width: 640px; height: 480px\">\n",
       "        <p id=\"3dmolwarning_15699485138435462\" style=\"background-color:#ffcccc;color:black\">You appear to be running in JupyterLab (or JavaScript failed to load for some other reason).  You need to install the 3dmol extension: <br>\n",
       "        <tt>jupyter labextension install jupyterlab_3dmol</tt></p>\n",
       "        </div>\n",
       "<script>\n",
       "\n",
       "var loadScriptAsync = function(uri){\n",
       "  return new Promise((resolve, reject) => {\n",
       "    var tag = document.createElement('script');\n",
       "    tag.src = uri;\n",
       "    tag.async = true;\n",
       "    tag.onload = () => {\n",
       "      resolve();\n",
       "    };\n",
       "  var firstScriptTag = document.getElementsByTagName('script')[0];\n",
       "  firstScriptTag.parentNode.insertBefore(tag, firstScriptTag);\n",
       "});\n",
       "};\n",
       "\n",
       "if(typeof $3Dmolpromise === 'undefined') {\n",
       "$3Dmolpromise = null;\n",
       "  $3Dmolpromise = loadScriptAsync('https://3dmol.csb.pitt.edu/build/3Dmol.js');\n",
       "}\n",
       "\n",
       "var viewer_15699485138435462 = null;\n",
       "var warn = document.getElementById(\"3dmolwarning_15699485138435462\");\n",
       "if(warn) {\n",
       "    warn.parentNode.removeChild(warn);\n",
       "}\n",
       "$3Dmolpromise.then(function() {\n",
       "viewer_15699485138435462 = $3Dmol.createViewer($(\"#3dmolviewer_15699485138435462\"),{backgroundColor:\"white\"});\n",
       "\tviewer_15699485138435462.addModel(\"@<TRIPOS>MOLECULE\\nRES\\n17 16 1 0 1\\nSMALL\\nNO_CHARGES\\n@<TRIPOS>CRYSIN\\n    7.2000    12.1380     6.6460    90.0000    90.0000    90.0000  1  1\\n@<TRIPOS>ATOM\\n       1 C           -0.0000    -4.2000    -0.0000 C             1 RES     \\n       2 H           -1.1000    -4.2000    -0.0000 H             1 RES     \\n       3 H            1.1000    -4.2000     0.0000 H             1 RES     \\n       4 C           -0.0000    -2.8000    -0.0000 C             1 RES     \\n       5 H           -1.1000    -2.8000    -0.0000 H             1 RES     \\n       6 H            1.1000    -2.8000     0.0000 H             1 RES     \\n       7 C           -0.0000    -1.4000    -0.0000 C             1 RES     \\n       8 H           -1.1000    -1.4000     0.0000 H             1 RES     \\n       9 H            1.1000    -1.4000    -0.0000 H             1 RES     \\n      10 C            0.0000     0.0000     0.0000 C             1 RES     \\n      11 H            1.0700     0.0000     0.0000 H             1 RES     \\n      12 H           -0.3570     0.7690     0.6530 H             1 RES     \\n      13 H           -0.3570     0.1810    -0.9930 H             1 RES     \\n      14 C           -0.0000    -5.6000    -0.0000 C             1 RES     \\n      15 H           -1.0700    -5.6000    -0.0000 H             1 RES     \\n      16 H            0.3570    -6.3690     0.6530 H             1 RES     \\n      17 H            0.3570    -5.7810    -0.9930 H             1 RES     \\n@<TRIPOS>BOND\\n       1        2        1 1\\n       2       16       14 1\\n       3       11       10 1\\n       4       14        1 1\\n       5        5        4 1\\n       6       10        7 1\\n       7        7        4 1\\n       8        8        7 1\\n       9        9        7 1\\n      10       15       14 1\\n      11       13       10 1\\n      12        6        4 1\\n      13        3        1 1\\n      14       17       14 1\\n      15       12       10 1\\n      16        4        1 1\\n@<TRIPOS>SUBSTRUCTURE\\n       1 RES             1 RESIDUE    0 **** ROOT      0\\n\",\"mol2\");\n",
       "\tviewer_15699485138435462.setStyle({\"stick\": {\"radius\": 0.2, \"color\": \"grey\"}, \"sphere\": {\"scale\": 0.3, \"colorscheme\": {}}});\n",
       "\tviewer_15699485138435462.zoomTo();\n",
       "viewer_15699485138435462.render();\n",
       "});\n",
       "</script>"
      ]
     },
     "metadata": {},
     "output_type": "display_data"
    },
    {
     "data": {
      "text/plain": [
       "<py3Dmol.view at 0x120cabd30>"
      ]
     },
     "execution_count": 2,
     "metadata": {},
     "output_type": "execute_result"
    }
   ],
   "source": [
    "n=5\n",
    "alkane = Alkane(n=n, cap_front=True, cap_end=True)\n",
    "print(alkane)\n",
    "alkane.visualize()"
   ]
  }
 ],
 "metadata": {
  "kernelspec": {
   "display_name": "Python 3",
   "language": "python",
   "name": "python3"
  },
  "language_info": {
   "codemirror_mode": {
    "name": "ipython",
    "version": 3
   },
   "file_extension": ".py",
   "mimetype": "text/x-python",
   "name": "python",
   "nbconvert_exporter": "python",
   "pygments_lexer": "ipython3",
   "version": "3.6.8"
  },
  "widgets": {
   "state": {
    "6d7dc1e5ef1b4c1386999ce67bc67763": {
     "views": [
      {
       "cell_index": 2
      }
     ]
    },
    "b1153236129b4ec8b1060dc51d31a60c": {
     "views": [
      {
       "cell_index": 2
      }
     ]
    }
   },
   "version": "1.2.0"
  }
 },
 "nbformat": 4,
 "nbformat_minor": 4
}
